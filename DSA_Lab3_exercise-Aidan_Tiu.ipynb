{
 "cells": [
  {
   "cell_type": "markdown",
   "metadata": {},
   "source": [
    "# Object Oriented Programming\n",
    "## Laboratory Exercise \n",
    "Deadline: 11:59pm Oct 8, 2024\n",
    "\n",
    "upload you this file together with your answer, the filename should be DSA_Lab3_exercise<name_and_section>.ipynb\n",
    "\n",
    "upload to https://docs.google.com/forms/d/e/1FAIpQLSdbYz8nlwvYws-ukmS2CcJE6YGgJxpD2y0tVvAxfyz-_pV4mg/viewform?usp=pp_url"
   ]
  },
  {
   "cell_type": "markdown",
   "metadata": {},
   "source": [
    "## Lab exercise 1\n",
    "\n",
    "from a given list of integers, create a new list using comprehension that will compute the square of odd integer elements.\n",
    "\n",
    "sample calls\n",
    "\n",
    "[2,4,3] == [9]\n",
    "[0,0,1,1] == [1,1]"
   ]
  },
  {
   "cell_type": "code",
   "execution_count": 1,
   "metadata": {},
   "outputs": [
    {
     "name": "stdout",
     "output_type": "stream",
     "text": [
      "Squared odd numbers from list_1: [9]\n",
      "Squared odd numbers from list_2: [1, 1]\n"
     ]
    }
   ],
   "source": [
    "# Lab Exercise 1: Square of Odd Integers\n",
    "# Features: Takes a list of integers and creates a new list with the square of only the odd elements.\n",
    "# Procedure:\n",
    "# 1. Use list comprehension to compute the square of odd integers from a given list.\n",
    "# 2. Return the new list containing the squared odd integers.\n",
    "\n",
    "def square_of_odds(lst):\n",
    "    \"\"\"Return a list with the square of odd integers from the input list.\n",
    "\n",
    "    Args:\n",
    "        lst (list of int): The list of integers to process.\n",
    "\n",
    "    Returns:\n",
    "        list of int: A new list containing the square of only the odd integers.\n",
    "    \"\"\"\n",
    "    return [item ** 2 for item in lst if isinstance(item, int) and item % 2 != 0]\n",
    "\n",
    "# Sample lists for testing the function\n",
    "list_1 = [2, 4, 3]\n",
    "list_2 = [0, 0, 1, 1]\n",
    "\n",
    "# Print the result of squaring the odd numbers in the sample lists\n",
    "print(\"Squared odd numbers from list_1:\", square_of_odds(list_1))\n",
    "print(\"Squared odd numbers from list_2:\", square_of_odds(list_2))\n"
   ]
  },
  {
   "cell_type": "markdown",
   "metadata": {},
   "source": [
    "## Lab exercise 2\n",
    "\n",
    "Using comprehension,create a new list of tuples from two given lists:\n",
    "\n",
    "### sample calls\n",
    "\n",
    "list1[1,2,3]\n",
    "list2[\"mark\",\"alice\",\"john]\n",
    "\n",
    "result: listOfTuple[(1,\"mark\"),(2,\"alice\"),(3,\"john\")] "
   ]
  },
  {
   "cell_type": "code",
   "execution_count": 2,
   "metadata": {},
   "outputs": [
    {
     "name": "stdout",
     "output_type": "stream",
     "text": [
      "Resulting list of tuples: [(1, 'mark'), (2, 'alice'), (3, 'john')]\n"
     ]
    }
   ],
   "source": [
    "# Lab Exercise 2: Create List of Tuples\n",
    "# Features: Takes two lists of equal length and creates a new list of tuples by pairing corresponding elements.\n",
    "# Procedure:\n",
    "# 1. Define two lists of equal length.\n",
    "# 2. Use list comprehension to pair elements from both lists into tuples.\n",
    "# 3. Return the resulting list of tuples.\n",
    "\n",
    "# Define two lists\n",
    "list_1 = [1, 2, 3]\n",
    "list_2 = [\"mark\", \"alice\", \"john\"]\n",
    "\n",
    "# Create a list of tuples by pairing elements from both lists using list comprehension\n",
    "list_of_tuple = [(item1, item2) for item1, item2 in zip(list_1, list_2)]\n",
    "\n",
    "# Print the resulting list of tuples\n",
    "print(\"Resulting list of tuples:\", list_of_tuple)\n"
   ]
  },
  {
   "cell_type": "markdown",
   "metadata": {},
   "source": [
    "## Lab exercise 3\n",
    "### Provide a list comprehension that implementation for a function called vowelsToUpper with the following signature:\n",
    "\n",
    "method name : vowelsToUpper\n",
    "\n",
    "input argument : String \n",
    "\n",
    "return argument : String\n",
    "\n",
    "vowelsToUpper must return a version of its String argument with all its vowels changed to their uppercase forms. Nonvowel characters stay as is.\n",
    "\n",
    "### Sample Calls\n",
    "\n",
    "vowelsToUpper \"\" == \"\"\n",
    "\n",
    "vowelsToUpper \"Hello, world!\" == \"HEllO, wOrld!\"\n",
    "\n",
    "vowelsToUpper \"hello hi bye\" == \"hEllO hI byE\""
   ]
  },
  {
   "cell_type": "code",
   "execution_count": 4,
   "metadata": {},
   "outputs": [
    {
     "name": "stdout",
     "output_type": "stream",
     "text": [
      "Result for empty string: \n",
      "Result for 'Hello, world!': HEllO, wOrld!\n",
      "Result for 'hello hi bye': hEllO hI byE\n"
     ]
    }
   ],
   "source": [
    "# Lab Exercise 3: Convert Vowels to Uppercase\n",
    "# Features: Takes a string as input and converts all vowels in the string to their uppercase forms.\n",
    "# Procedure:\n",
    "# 1. Define a function to convert vowels to uppercase.\n",
    "# 2. Use list comprehension to iterate through the string.\n",
    "# 3. Convert vowels ('a', 'e', 'i', 'o', 'u') to uppercase; non-vowel characters remain unchanged.\n",
    "# 4. Return the resulting string with vowels in uppercase.\n",
    "\n",
    "def vowels_to_upper(string):\n",
    "    \"\"\"Convert all vowels in the input string to uppercase.\n",
    "\n",
    "    Args:\n",
    "        string (str): The input string to process.\n",
    "\n",
    "    Returns:\n",
    "        str: A new string with all vowels converted to uppercase.\n",
    "    \"\"\"\n",
    "    return ''.join([char.upper() if char.lower() in \"aeiou\" else char for char in string])\n",
    "\n",
    "# Test cases to validate the function\n",
    "print(\"Result for empty string:\", vowels_to_upper(\"\"))\n",
    "print(\"Result for 'Hello, world!':\", vowels_to_upper(\"Hello, world!\")) \n",
    "print(\"Result for 'hello hi bye':\", vowels_to_upper(\"hello hi bye\"))  \n"
   ]
  }
 ],
 "metadata": {
  "kernelspec": {
   "display_name": "Python 3",
   "language": "python",
   "name": "python3"
  },
  "language_info": {
   "codemirror_mode": {
    "name": "ipython",
    "version": 3
   },
   "file_extension": ".py",
   "mimetype": "text/x-python",
   "name": "python",
   "nbconvert_exporter": "python",
   "pygments_lexer": "ipython3",
   "version": "3.12.1"
  }
 },
 "nbformat": 4,
 "nbformat_minor": 2
}
